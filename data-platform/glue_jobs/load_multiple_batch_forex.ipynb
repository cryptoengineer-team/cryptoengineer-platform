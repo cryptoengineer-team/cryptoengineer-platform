{
	"metadata": {
		"kernelspec": {
			"name": "glue_pyspark",
			"display_name": "Glue PySpark",
			"language": "python"
		},
		"language_info": {
			"name": "Python_Glue_Session",
			"mimetype": "text/x-python",
			"codemirror_mode": {
				"name": "python",
				"version": 3
			},
			"pygments_lexer": "python3",
			"file_extension": ".py"
		}
	},
	"nbformat_minor": 4,
	"nbformat": 4,
	"cells": [
		{
			"cell_type": "markdown",
			"source": "# AWS Glue Studio Notebook\n##### You are now running a AWS Glue Studio notebook; To start using your notebook you need to start an AWS Glue Interactive Session.\n",
			"metadata": {
				"editable": true,
				"trusted": true
			}
		},
		{
			"cell_type": "markdown",
			"source": "#### Optional: Run this cell to see available notebook commands (\"magics\").\n",
			"metadata": {
				"editable": true,
				"trusted": true
			}
		},
		{
			"cell_type": "code",
			"source": "%iam_role arn:aws:iam::212430227630:role/LabRole\n%region us-east-1\n%number_of_workers 2\n\n%idle_timeout 30\n%glue_version 4.0\n%worker_type G.1X",
			"metadata": {
				"trusted": true,
				"editable": true
			},
			"execution_count": 7,
			"outputs": [
				{
					"name": "stdout",
					"text": "Welcome to the Glue Interactive Sessions Kernel\nFor more information on available magic commands, please type %help in any new cell.\n\nPlease view our Getting Started page to access the most up-to-date information on the Interactive Sessions kernel: https://docs.aws.amazon.com/glue/latest/dg/interactive-sessions.html\nInstalled kernel version: 1.0.5 \nCurrent iam_role is arn:aws:iam::212430227630:role/LabRole\niam_role has been set to arn:aws:iam::212430227630:role/LabRole.\nPrevious region: us-east-1\nSetting new region to: us-east-1\nRegion is set to: us-east-1\nPrevious number of workers: None\nSetting new number of workers to: 2\nCurrent idle_timeout is None minutes.\nidle_timeout has been set to 30 minutes.\nSetting Glue version to: 4.0\nPrevious worker type: None\nSetting new worker type to: G.1X\n",
					"output_type": "stream"
				}
			]
		},
		{
			"cell_type": "code",
			"source": "%extra_py_files s3://cryptoengineer/gluejobs-py-modules/load.py, s3://cryptoengineer/gluejobs-py-modules/storage.py\n%additional_python_modules yfinance",
			"metadata": {
				"trusted": true,
				"tags": []
			},
			"execution_count": 10,
			"outputs": [
				{
					"name": "stdout",
					"text": "Extra py files to be included:\ns3://cryptoengineer/gluejobs-py-modules/load.py\ns3://cryptoengineer/gluejobs-py-modules/storage.py\nAdditional python modules to be included:\nyfinance\n",
					"output_type": "stream"
				}
			]
		},
		{
			"cell_type": "markdown",
			"source": "####  Run this cell to set up and start your interactive session.\n",
			"metadata": {
				"editable": true,
				"trusted": true
			}
		},
		{
			"cell_type": "code",
			"source": "%load_ext autoreload\n%autoreload 2",
			"metadata": {
				"trusted": true,
				"tags": []
			},
			"execution_count": 13,
			"outputs": []
		},
		{
			"cell_type": "code",
			"source": "import sys\nimport boto3\n\nfrom awsglue.transforms import *\nfrom awsglue.utils import getResolvedOptions\nfrom pyspark.context import SparkContext\nfrom awsglue.context import GlueContext\nfrom awsglue.job import Job\n  \nsc = SparkContext.getOrCreate()\nglueContext = GlueContext(sc)\nspark = glueContext.spark_session\njob = Job(glueContext)",
			"metadata": {
				"trusted": true,
				"editable": true
			},
			"execution_count": 1,
			"outputs": [
				{
					"name": "stdout",
					"text": "Trying to create a Glue session for the kernel.\nSession Type: glueetl\nWorker Type: G.1X\nNumber of Workers: 2\nIdle Timeout: 30\nSession ID: a998f449-50e9-4166-961f-64343a8852ad\nApplying the following default arguments:\n--glue_kernel_version 1.0.5\n--enable-glue-datacatalog true\n--extra-py-files s3://cryptoengineer/gluejobs-py-modules/load.py,s3://cryptoengineer/gluejobs-py-modules/storage.py\n--additional-python-modules yfinance\nWaiting for session a998f449-50e9-4166-961f-64343a8852ad to get into ready status...\nSession a998f449-50e9-4166-961f-64343a8852ad has been created.\n\n",
					"output_type": "stream"
				}
			]
		},
		{
			"cell_type": "markdown",
			"source": "## Batch Load - FOREX\n",
			"metadata": {
				"editable": true,
				"trusted": true
			}
		},
		{
			"cell_type": "code",
			"source": "from datetime import datetime, timedelta, timezone\nimport pandas as pd\nimport load",
			"metadata": {
				"trusted": true,
				"tags": []
			},
			"execution_count": 2,
			"outputs": [
				{
					"name": "stdout",
					"text": "\n",
					"output_type": "stream"
				}
			]
		},
		{
			"cell_type": "markdown",
			"source": "### Set AWS Storage parameters\n",
			"metadata": {}
		},
		{
			"cell_type": "code",
			"source": "BUCKET_NAME = \"cryptoengineer\"\nPREFIX = \"datalake/bronze/forex\"",
			"metadata": {
				"trusted": true,
				"tags": []
			},
			"execution_count": 3,
			"outputs": [
				{
					"name": "stdout",
					"text": "\n",
					"output_type": "stream"
				}
			]
		},
		{
			"cell_type": "markdown",
			"source": "### Load job parameters",
			"metadata": {}
		},
		{
			"cell_type": "code",
			"source": "glue_client = boto3.client(\"glue\")\n\nif '--WORKFLOW_NAME' in sys.argv and '--WORKFLOW_RUN_ID' in sys.argv:\n    print(\"Running in Glue Workflow\")\n    \n    glue_args = getResolvedOptions(\n        sys.argv, ['WORKFLOW_NAME', 'WORKFLOW_RUN_ID']\n    )\n    \n    print(\"Reading the workflow parameters\")\n    workflow_args = glue_client.get_workflow_run_properties(\n        Name=glue_args['WORKFLOW_NAME'], RunId=glue_args['WORKFLOW_RUN_ID']\n    )[\"RunProperties\"]\n\n    \n    base= workflow_args['base']\n    time_frame = int(workflow_args['time_frame'])\n    symbols = workflow_args['symbols']\n    api_key = workflow_args['api_key']\n\nelse:\n    try:\n        print(\"Running as Job\")\n        args = getResolvedOptions(sys.argv,\n                                  ['JOB_NAME',\n                                   'base',\n                                   'time_frame',\n                                   'symbols',\n                                   'api_key'])\n        base= args['base']\n        time_frame = int(args['time_frame'])\n        ##symbols = \"EUR,CHF,JPY,CAD,GBP\"\n        symbols = args['symbols']\n        api_key = args['api_key']\n    except:\n        base= 'USD'\n        time_frame = 24\n        symbols = \"USDEUR\"\n        api_key= \"xGFdE9Ydrcr1oCDJiCjHiZnkqUnQnjaH\"\n        \n",
			"metadata": {
				"trusted": true,
				"editable": true
			},
			"execution_count": 4,
			"outputs": [
				{
					"name": "stdout",
					"text": "Running as Job\n",
					"output_type": "stream"
				}
			]
		},
		{
			"cell_type": "code",
			"source": "print(\"base: \", base)\nprint(\"Time Frame: \", time_frame)\nprint(\"Symbols: \", symbols)\nprint(\"API Key: \", api_key)",
			"metadata": {
				"trusted": true,
				"tags": []
			},
			"execution_count": 5,
			"outputs": [
				{
					"name": "stdout",
					"text": "base:  USD\nTime Frame:  24\nSymbols:  USDEUR\nAPI Key:  xGFdE9Ydrcr1oCDJiCjHiZnkqUnQnjaH\n",
					"output_type": "stream"
				}
			]
		},
		{
			"cell_type": "markdown",
			"source": "#### Set the start and end dates for the data you want to load",
			"metadata": {
				"tags": []
			}
		},
		{
			"cell_type": "code",
			"source": "# Start date\nstart_date = (datetime.utcnow() - timedelta(hours=time_frame)).strftime(\"%Y-%m-%d\")\nend_date = datetime.utcnow().strftime(\"%Y-%m-%d\")\n\nprint(\"Start date; \",start_date,\" End date: \",end_date)",
			"metadata": {
				"trusted": true,
				"tags": []
			},
			"execution_count": 6,
			"outputs": [
				{
					"name": "stdout",
					"text": "Start date;  2024-08-31  End date:  2024-09-01\n",
					"output_type": "stream"
				}
			]
		},
		{
			"cell_type": "markdown",
			"source": "## Load the historical rates - 15min frequency",
			"metadata": {}
		},
		{
			"cell_type": "markdown",
			"source": "Set some config values",
			"metadata": {}
		},
		{
			"cell_type": "code",
			"source": "freq='15min'\nsource='FMP'",
			"metadata": {
				"trusted": true,
				"tags": []
			},
			"execution_count": 7,
			"outputs": [
				{
					"name": "stdout",
					"text": "\n",
					"output_type": "stream"
				}
			]
		},
		{
			"cell_type": "code",
			"source": "df= pd.DataFrame()\nfor symbol in symbols.split(\",\"):\n    print(\"Loading: \", symbol)\n    symbol_df = load.load_batch_freq_rates(base=base,\n                                          start_date=start_date,\n                                          end_date=end_date,\n                                          freq=freq,\n                                          symbol=symbol,\n                                          api_key=api_key,\n                                          source=source\n    )\n    # Complete the table schema \n    if len(symbol_df)>0:\n        symbol_df = load.set_schema_table(symbol_df, symbol, source, freq, base)\n        print(\"Records: \", len(symbol_df))\n        df = pd.concat([df, symbol_df])\n    else:\n        print(\"No data for: \", symbol)\n",
			"metadata": {
				"trusted": true,
				"tags": []
			},
			"execution_count": 9,
			"outputs": [
				{
					"name": "stdout",
					"text": "Loading:  USDEUR\nLeidos  0\nCreating the dataframe\nRecords:  0\n",
					"output_type": "stream"
				}
			]
		},
		{
			"cell_type": "code",
			"source": "print(\"Records: \", len(df))",
			"metadata": {
				"trusted": true,
				"tags": []
			},
			"execution_count": 10,
			"outputs": [
				{
					"name": "stdout",
					"text": "Records:  0\n",
					"output_type": "stream"
				}
			]
		},
		{
			"cell_type": "code",
			"source": "df.head(5)",
			"metadata": {
				"trusted": true,
				"tags": []
			},
			"execution_count": 11,
			"outputs": [
				{
					"name": "stdout",
					"text": "Empty DataFrame\nColumns: []\nIndex: []\n",
					"output_type": "stream"
				}
			]
		},
		{
			"cell_type": "code",
			"source": "df.info()",
			"metadata": {
				"trusted": true,
				"tags": []
			},
			"execution_count": 12,
			"outputs": [
				{
					"name": "stdout",
					"text": "<class 'pandas.core.frame.DataFrame'>\nIndex: 0 entries\nEmpty DataFrame\n",
					"output_type": "stream"
				}
			]
		},
		{
			"cell_type": "markdown",
			"source": "## Append the batch data to RAW table",
			"metadata": {}
		},
		{
			"cell_type": "markdown",
			"source": "Set the destination raw table",
			"metadata": {}
		},
		{
			"cell_type": "code",
			"source": "path=f\"s3://{BUCKET_NAME}/{PREFIX}\"\nprint(\"Path:\",path)",
			"metadata": {
				"trusted": true,
				"tags": []
			},
			"execution_count": 13,
			"outputs": [
				{
					"name": "stdout",
					"text": "Path: s3://cryptoengineer/datalake/raw/forex\n",
					"output_type": "stream"
				}
			]
		},
		{
			"cell_type": "code",
			"source": "if len(df)>0:\n    print(\"Saving data to: \", path)\n    (\n        spark.createDataFrame(df)\n        .repartition(\"load_date\")\n        .write\n        .format(\"parquet\")\n        .mode(\"append\")\n        .partitionBy(['load_date'])\n        .save(path)\n    )",
			"metadata": {
				"trusted": true,
				"tags": []
			},
			"execution_count": 14,
			"outputs": [
				{
					"name": "stdout",
					"text": "\n",
					"output_type": "stream"
				}
			]
		},
		{
			"cell_type": "code",
			"source": "",
			"metadata": {},
			"execution_count": null,
			"outputs": []
		}
	]
}