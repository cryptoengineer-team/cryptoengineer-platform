{
	"cells": [
		{
			"cell_type": "markdown",
			"metadata": {
				"editable": true,
				"trusted": true
			},
			"source": [
				"# AWS Glue Job - Load Forex data to Bronze Stage from API source\n"
			]
		},
		{
			"cell_type": "markdown",
			"metadata": {},
			"source": [
				"## Set the Glue session parameters"
			]
		},
		{
			"cell_type": "code",
			"execution_count": 16,
			"metadata": {
				"editable": true,
				"trusted": true,
				"vscode": {
					"languageId": "python_glue_session"
				}
			},
			"outputs": [
				{
					"name": "stdout",
					"output_type": "stream",
					"text": [
						"Current iam_role is arn:aws:iam::212430227630:role/LabRole\n",
						"iam_role has been set to arn:aws:iam::212430227630:role/LabRole.\n",
						"Previous region: us-east-1\n",
						"Setting new region to: us-east-1\n",
						"Region is set to: us-east-1\n",
						"Previous number of workers: 2\n",
						"Setting new number of workers to: 2\n",
						"Current idle_timeout is 30 minutes.\n",
						"idle_timeout has been set to 30 minutes.\n",
						"Setting Glue version to: 4.0\n",
						"Previous worker type: G.1X\n",
						"Setting new worker type to: G.1X\n",
						"The following configurations have been updated: {'--enable-metrics': 'true', '--enable-observability-metrics': 'true'}\n"
					]
				}
			],
			"source": [
				"%iam_role arn:aws:iam::212430227630:role/LabRole\n",
				"%region us-east-1\n",
				"%number_of_workers 2\n",
				"\n",
				"%idle_timeout 30\n",
				"%glue_version 4.0\n",
				"%worker_type G.1X\n",
				"\n",
				"%%configure \n",
				"{\n",
				"  \"--enable-metrics\": \"true\",\n",
				"  \"--enable-observability-metrics\": \"true\"\n",
				"}"
			]
		},
		{
			"cell_type": "code",
			"execution_count": 19,
			"metadata": {
				"tags": [],
				"trusted": true,
				"vscode": {
					"languageId": "python_glue_session"
				}
			},
			"outputs": [
				{
					"name": "stdout",
					"output_type": "stream",
					"text": [
						"Extra py files to be included:\n",
						"s3://cryptoengineer/gluejobs-py-modules/load.py\n",
						"s3://cryptoengineer/gluejobs-py-modules/storage.py\n",
						"Additional python modules to be included:\n",
						"yfinance\n"
					]
				}
			],
			"source": [
				"%extra_py_files s3://cryptoengineer/gluejobs-py-modules/load.py, s3://cryptoengineer/gluejobs-py-modules/storage.py\n",
				"%additional_python_modules yfinance"
			]
		},
		{
			"cell_type": "markdown",
			"metadata": {
				"editable": true,
				"trusted": true
			},
			"source": [
				"##  Set up and start your interactive session.\n"
			]
		},
		{
			"cell_type": "code",
			"execution_count": 22,
			"metadata": {
				"tags": [],
				"trusted": true,
				"vscode": {
					"languageId": "python_glue_session"
				}
			},
			"outputs": [],
			"source": [
				"%load_ext autoreload\n",
				"%autoreload 2"
			]
		},
		{
			"cell_type": "code",
			"execution_count": 1,
			"metadata": {
				"editable": true,
				"trusted": true,
				"vscode": {
					"languageId": "python_glue_session"
				}
			},
			"outputs": [
				{
					"name": "stdout",
					"output_type": "stream",
					"text": [
						"Trying to create a Glue session for the kernel.\n",
						"Session Type: glueetl\n",
						"Worker Type: G.1X\n",
						"Number of Workers: 2\n",
						"Idle Timeout: 30\n",
						"Session ID: b7d67d73-ea8e-4a4a-865d-177799d3e940\n",
						"Applying the following default arguments:\n",
						"--glue_kernel_version 1.0.5\n",
						"--enable-glue-datacatalog true\n",
						"--enable-metrics true\n",
						"--enable-observability-metrics true\n",
						"--extra-py-files s3://cryptoengineer/gluejobs-py-modules/load.py,s3://cryptoengineer/gluejobs-py-modules/storage.py\n",
						"--additional-python-modules yfinance\n",
						"Waiting for session b7d67d73-ea8e-4a4a-865d-177799d3e940 to get into ready status...\n",
						"Session b7d67d73-ea8e-4a4a-865d-177799d3e940 has been created.\n",
						"\n"
					]
				}
			],
			"source": [
				"import sys\n",
				"import boto3\n",
				"\n",
				"from awsglue.transforms import *\n",
				"from awsglue.utils import getResolvedOptions\n",
				"from pyspark.context import SparkContext\n",
				"from awsglue.context import GlueContext\n",
				"from awsglue.job import Job\n",
				"  \n",
				"sc = SparkContext.getOrCreate()\n",
				"glueContext = GlueContext(sc)\n",
				"spark = glueContext.spark_session\n",
				"job = Job(glueContext)"
			]
		},
		{
			"cell_type": "markdown",
			"metadata": {
				"editable": true,
				"trusted": true
			},
			"source": [
				"## Batch Load - FOREX\n",
				"\n",
				"### Load the libraries and dependencies"
			]
		},
		{
			"cell_type": "code",
			"execution_count": 2,
			"metadata": {
				"tags": [],
				"trusted": true,
				"vscode": {
					"languageId": "python_glue_session"
				}
			},
			"outputs": [
				{
					"name": "stdout",
					"output_type": "stream",
					"text": [
						"\n"
					]
				}
			],
			"source": [
				"from datetime import datetime, timedelta, timezone\n",
				"import pyspark.sql.functions as F\n",
				"\n",
				"import pandas as pd\n",
				"import load"
			]
		},
		{
			"cell_type": "markdown",
			"metadata": {},
			"source": [
				"### Set AWS Storage parameters\n"
			]
		},
		{
			"cell_type": "code",
			"execution_count": 4,
			"metadata": {
				"tags": [],
				"trusted": true,
				"vscode": {
					"languageId": "python_glue_session"
				}
			},
			"outputs": [
				{
					"name": "stdout",
					"output_type": "stream",
					"text": [
						"\n"
					]
				}
			],
			"source": [
				"BUCKET_NAME = \"cryptoengineer\"\n",
				"PREFIX = \"datalake/bronze/forex\""
			]
		},
		{
			"cell_type": "markdown",
			"metadata": {},
			"source": [
				"### Load job parameters"
			]
		},
		{
			"cell_type": "code",
			"execution_count": 8,
			"metadata": {
				"editable": true,
				"trusted": true,
				"vscode": {
					"languageId": "python_glue_session"
				}
			},
			"outputs": [
				{
					"name": "stdout",
					"output_type": "stream",
					"text": [
						"Running as an interactive session\n"
					]
				}
			],
			"source": [
				"glue_client = boto3.client(\"glue\")\n",
				"# Check if params come from a GLUE workflow\n",
				"if '--WORKFLOW_NAME' in sys.argv and '--WORKFLOW_RUN_ID' in sys.argv:\n",
				"    print(\"Running in Glue Workflow\")\n",
				"    \n",
				"    glue_args = getResolvedOptions(\n",
				"        sys.argv, ['WORKFLOW_NAME', 'WORKFLOW_RUN_ID']\n",
				"    )\n",
				"    \n",
				"    print(\"Reading the workflow parameters\")\n",
				"    workflow_args = glue_client.get_workflow_run_properties(\n",
				"        Name=glue_args['WORKFLOW_NAME'], RunId=glue_args['WORKFLOW_RUN_ID']\n",
				"    )[\"RunProperties\"]\n",
				"\n",
				"    \n",
				"    base= workflow_args['base']\n",
				"    time_frame = int(workflow_args['time_frame'])\n",
				"    symbols = workflow_args['symbols']\n",
				"    api_key = workflow_args['api_key']\n",
				"\n",
				"else:\n",
				"    # Check if params come from a Glue Job\n",
				"    try:\n",
				"        args = getResolvedOptions(sys.argv,\n",
				"                                  ['JOB_NAME',\n",
				"                                   'base',\n",
				"                                   'time_frame',\n",
				"                                   'symbols',\n",
				"                                   'api_key'])\n",
				"        base= args['base']\n",
				"        time_frame = int(args['time_frame'])\n",
				"        symbols = args['symbols']\n",
				"        api_key = args['api_key']\n",
				"        print(\"Running as Job\")        \n",
				"    except:\n",
				"        # Set the params for an interactive session\n",
				"        print(\"Running as an interactive session\")\n",
				"        base= 'USD'\n",
				"        time_frame = 384\n",
				"        symbols = \"USDEUR\"\n",
				"        api_key= \"\"\n",
				"        \n"
			]
		},
		{
			"cell_type": "code",
			"execution_count": null,
			"metadata": {
				"tags": [],
				"trusted": true,
				"vscode": {
					"languageId": "python_glue_session"
				}
			},
			"outputs": [],
			"source": [
				"print(\"base: \", base)\n",
				"print(\"Time Frame: \", time_frame)\n",
				"print(\"Symbols: \", symbols)\n",
				"print(\"API Key: \", api_key)"
			]
		},
		{
			"cell_type": "markdown",
			"metadata": {
				"tags": []
			},
			"source": [
				"#### Set the start and end dates for the data you want to load"
			]
		},
		{
			"cell_type": "code",
			"execution_count": 10,
			"metadata": {
				"tags": [],
				"trusted": true,
				"vscode": {
					"languageId": "python_glue_session"
				}
			},
			"outputs": [
				{
					"name": "stdout",
					"output_type": "stream",
					"text": [
						"Start date;  2024-09-07  End date:  2024-09-23\n"
					]
				}
			],
			"source": [
				"# Start date\n",
				"start_date = (datetime.utcnow() - timedelta(hours=time_frame)).strftime(\"%Y-%m-%d\")\n",
				"end_date = datetime.utcnow().strftime(\"%Y-%m-%d\")\n",
				"\n",
				"print(\"Start date; \",start_date,\" End date: \",end_date)"
			]
		},
		{
			"cell_type": "markdown",
			"metadata": {},
			"source": [
				"## Read max date loaded from INFO table"
			]
		},
		{
			"cell_type": "markdown",
			"metadata": {},
			"source": [
				"We read the last date source data were loaded to remove duplicates rows"
			]
		},
		{
			"cell_type": "code",
			"execution_count": 11,
			"metadata": {
				"tags": [],
				"trusted": true,
				"vscode": {
					"languageId": "python_glue_session"
				}
			},
			"outputs": [
				{
					"name": "stdout",
					"output_type": "stream",
					"text": [
						"Path: s3://cryptoengineer/datalake/gold/forex\n"
					]
				}
			],
			"source": [
				"PREFIX_INFO_TABLE='datalake/gold/forex'\n",
				"path=f\"s3://{BUCKET_NAME}/{PREFIX_INFO_TABLE}\"\n",
				"print(\"Path:\", path)"
			]
		},
		{
			"cell_type": "code",
			"execution_count": 12,
			"metadata": {
				"tags": [],
				"trusted": true,
				"vscode": {
					"languageId": "python_glue_session"
				}
			},
			"outputs": [
				{
					"name": "stdout",
					"output_type": "stream",
					"text": [
						"/opt/amazon/spark/python/lib/pyspark.zip/pyspark/sql/pandas/conversion.py:248: FutureWarning: Passing unit-less datetime64 dtype to .astype is deprecated and will raise in a future version. Pass 'datetime64[ns]' instead\n",
						"  series = series.astype(t, copy=False)\n"
					]
				}
			],
			"source": [
				"df_max_dates = (\n",
				"    spark\n",
				"    .read\n",
				"    .parquet(path)\n",
				"    .filter(F.col(\"stage\")=='bronze')\n",
				"    .select('symbol','base_currency','frequencies','end_datetime')\n",
				"    .toPandas()\n",
				")"
			]
		},
		{
			"cell_type": "code",
			"execution_count": 13,
			"metadata": {
				"tags": [],
				"trusted": true,
				"vscode": {
					"languageId": "python_glue_session"
				}
			},
			"outputs": [
				{
					"name": "stdout",
					"output_type": "stream",
					"text": [
						"   symbol base_currency frequencies        end_datetime\n",
						"0  USDCHF           USD       15min 2024-09-06 16:45:00\n",
						"1  USDEUR           USD       15min 2024-09-06 16:45:00\n",
						"2  USDGBP           USD       15min 2024-09-06 16:45:00\n",
						"3  USDJPY           USD       15min 2024-09-06 16:45:00\n"
					]
				}
			],
			"source": [
				"df_max_dates.head(10)"
			]
		},
		{
			"cell_type": "code",
			"execution_count": 17,
			"metadata": {
				"tags": [],
				"trusted": true,
				"vscode": {
					"languageId": "python_glue_session"
				}
			},
			"outputs": [
				{
					"name": "stdout",
					"output_type": "stream",
					"text": [
						"<class 'pandas.core.frame.DataFrame'>\n",
						"RangeIndex: 4 entries, 0 to 3\n",
						"Data columns (total 4 columns):\n",
						" #   Column         Non-Null Count  Dtype         \n",
						"---  ------         --------------  -----         \n",
						" 0   symbol         4 non-null      object        \n",
						" 1   base_currency  4 non-null      object        \n",
						" 2   frequencies    4 non-null      object        \n",
						" 3   end_datetime   4 non-null      datetime64[ns]\n",
						"dtypes: datetime64[ns](1), object(3)\n",
						"memory usage: 256.0+ bytes\n"
					]
				}
			],
			"source": [
				"df_max_dates.info()"
			]
		},
		{
			"cell_type": "markdown",
			"metadata": {},
			"source": [
				"## Load the historical rates - 15min frequency"
			]
		},
		{
			"cell_type": "markdown",
			"metadata": {},
			"source": [
				"Set some fixed values we use to populate the bronze stage"
			]
		},
		{
			"cell_type": "code",
			"execution_count": 14,
			"metadata": {
				"tags": [],
				"trusted": true,
				"vscode": {
					"languageId": "python_glue_session"
				}
			},
			"outputs": [
				{
					"name": "stdout",
					"output_type": "stream",
					"text": [
						"\n"
					]
				}
			],
			"source": [
				"freq='15min'\n",
				"source='FMP'"
			]
		},
		{
			"cell_type": "markdown",
			"metadata": {},
			"source": [
				"Now, we iterate the symbols list and load the data for each symbol from the source, remove data rows already loaded and save to a Pandas dataframe."
			]
		},
		{
			"cell_type": "code",
			"execution_count": 20,
			"metadata": {
				"tags": [],
				"trusted": true,
				"vscode": {
					"languageId": "python_glue_session"
				}
			},
			"outputs": [
				{
					"name": "stdout",
					"output_type": "stream",
					"text": [
						"Loading:  USDEUR\n",
						"Leidos  997\n",
						"Creating the dataframe\n",
						"Records loaded:  997\n",
						"New records:  997\n",
						"Records:  997\n"
					]
				}
			],
			"source": [
				"df= pd.DataFrame()\n",
				"for symbol in symbols.split(\",\"):\n",
				"    print(\"Loading: \", symbol)\n",
				"    symbol_df = load.load_batch_freq_rates(base=base,\n",
				"                                          start_date=start_date,\n",
				"                                          end_date=end_date,\n",
				"                                          freq=freq,\n",
				"                                          symbol=symbol,\n",
				"                                          api_key=api_key,\n",
				"                                          source=source\n",
				"    )\n",
				"    print(\"Records loaded: \", len(symbol_df))\n",
				"    # Get the max date time already loaded \n",
				"    max_datetime=df_max_dates[(df_max_dates['symbol'] ==symbol) & (df_max_dates['base_currency'] ==base) \n",
				"                              & (df_max_dates['frequencies'] ==freq)]['end_datetime'].max()\n",
				"    # Extract only the new data\n",
				"    symbol_df = symbol_df[pd.to_datetime(symbol_df['date']) > max_datetime]\n",
				"    print(\"New records: \", len(symbol_df))\n",
				"    \n",
				"    # Complete the table schema \n",
				"    if len(symbol_df)>0:\n",
				"        symbol_df = load.set_schema_table(symbol_df, symbol, source, freq, base)\n",
				"        print(\"Records: \", len(symbol_df))\n",
				"        df = pd.concat([df, symbol_df])\n",
				"    else:\n",
				"        print(\"No data for: \", symbol)\n"
			]
		},
		{
			"cell_type": "code",
			"execution_count": 21,
			"metadata": {
				"tags": [],
				"trusted": true,
				"vscode": {
					"languageId": "python_glue_session"
				}
			},
			"outputs": [
				{
					"name": "stdout",
					"output_type": "stream",
					"text": [
						"Records:  997\n"
					]
				}
			],
			"source": [
				"print(\"Records: \", len(df))"
			]
		},
		{
			"cell_type": "code",
			"execution_count": 22,
			"metadata": {
				"tags": [],
				"trusted": true,
				"vscode": {
					"languageId": "python_glue_session"
				}
			},
			"outputs": [
				{
					"name": "stdout",
					"output_type": "stream",
					"text": [
						"              datetime     open  ...   load_date   type\n",
						"0  2024-09-23 05:00:00  0.90147  ...  2024-09-23  FOREX\n",
						"1  2024-09-23 04:45:00  0.90115  ...  2024-09-23  FOREX\n",
						"2  2024-09-23 04:30:00  0.90157  ...  2024-09-23  FOREX\n",
						"3  2024-09-23 04:15:00  0.90188  ...  2024-09-23  FOREX\n",
						"4  2024-09-23 04:00:00  0.90088  ...  2024-09-23  FOREX\n",
						"\n",
						"[5 rows x 18 columns]\n"
					]
				}
			],
			"source": [
				"df.head(5)"
			]
		},
		{
			"cell_type": "code",
			"execution_count": 23,
			"metadata": {
				"tags": [],
				"trusted": true,
				"vscode": {
					"languageId": "python_glue_session"
				}
			},
			"outputs": [
				{
					"name": "stdout",
					"output_type": "stream",
					"text": [
						"<class 'pandas.core.frame.DataFrame'>\n",
						"Int64Index: 997 entries, 0 to 996\n",
						"Data columns (total 18 columns):\n",
						" #   Column         Non-Null Count  Dtype              \n",
						"---  ------         --------------  -----              \n",
						" 0   datetime       997 non-null    object             \n",
						" 1   open           997 non-null    float64            \n",
						" 2   low            997 non-null    float64            \n",
						" 3   high           997 non-null    float64            \n",
						" 4   close          997 non-null    float64            \n",
						" 5   volume         997 non-null    int64              \n",
						" 6   year           997 non-null    object             \n",
						" 7   month          997 non-null    object             \n",
						" 8   day            997 non-null    object             \n",
						" 9   time           997 non-null    object             \n",
						" 10  date           997 non-null    object             \n",
						" 11  base_currency  997 non-null    object             \n",
						" 12  source         997 non-null    object             \n",
						" 13  frequency      997 non-null    object             \n",
						" 14  symbol         997 non-null    object             \n",
						" 15  audit_time     997 non-null    datetime64[ns, UTC]\n",
						" 16  load_date      997 non-null    object             \n",
						" 17  type           997 non-null    object             \n",
						"dtypes: datetime64[ns, UTC](1), float64(4), int64(1), object(12)\n",
						"memory usage: 148.0+ KB\n"
					]
				}
			],
			"source": [
				"df.info()"
			]
		},
		{
			"cell_type": "markdown",
			"metadata": {},
			"source": [
				"## Append the batch data to RAW table"
			]
		},
		{
			"cell_type": "markdown",
			"metadata": {},
			"source": [
				"Set the destination raw table"
			]
		},
		{
			"cell_type": "code",
			"execution_count": 24,
			"metadata": {
				"tags": [],
				"trusted": true,
				"vscode": {
					"languageId": "python_glue_session"
				}
			},
			"outputs": [
				{
					"name": "stdout",
					"output_type": "stream",
					"text": [
						"Path: s3://cryptoengineer/datalake/bronze/forex\n"
					]
				}
			],
			"source": [
				"path=f\"s3://{BUCKET_NAME}/{PREFIX}\"\n",
				"print(\"Path:\",path)"
			]
		},
		{
			"cell_type": "markdown",
			"metadata": {},
			"source": [
				"Save data to datalake, bronze stage, in parquet format and partitioned by load_date"
			]
		},
		{
			"cell_type": "code",
			"execution_count": 25,
			"metadata": {
				"tags": [],
				"trusted": true,
				"vscode": {
					"languageId": "python_glue_session"
				}
			},
			"outputs": [
				{
					"name": "stdout",
					"output_type": "stream",
					"text": [
						"Saving data to:  s3://cryptoengineer/datalake/bronze/forex\n",
						"/opt/amazon/spark/python/lib/pyspark.zip/pyspark/sql/pandas/conversion.py:474: FutureWarning: iteritems is deprecated and will be removed in a future version. Use .items instead.\n",
						"  for column, series in pdf.iteritems():\n",
						"/opt/amazon/spark/python/lib/pyspark.zip/pyspark/sql/pandas/conversion.py:486: FutureWarning: iteritems is deprecated and will be removed in a future version. Use .items instead.\n",
						"  for column, series in pdf.iteritems():\n"
					]
				}
			],
			"source": [
				"if len(df)>0:\n",
				"    print(\"Saving data to: \", path)\n",
				"    (\n",
				"        spark.createDataFrame(df)\n",
				"        .repartition(\"load_date\")\n",
				"        .write\n",
				"        .format(\"parquet\")\n",
				"        .mode(\"append\")\n",
				"        .partitionBy(['load_date'])\n",
				"        .save(path)\n",
				"    )"
			]
		},
		{
			"cell_type": "code",
			"execution_count": null,
			"metadata": {
				"vscode": {
					"languageId": "python_glue_session"
				}
			},
			"outputs": [],
			"source": []
		}
	],
	"metadata": {
		"kernelspec": {
			"display_name": "Glue PySpark",
			"language": "python",
			"name": "glue_pyspark"
		},
		"language_info": {
			"codemirror_mode": {
				"name": "python",
				"version": 3
			},
			"file_extension": ".py",
			"mimetype": "text/x-python",
			"name": "Python_Glue_Session",
			"pygments_lexer": "python3"
		}
	},
	"nbformat": 4,
	"nbformat_minor": 4
}
