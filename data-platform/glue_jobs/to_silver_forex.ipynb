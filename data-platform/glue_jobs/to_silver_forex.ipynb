{
	"metadata": {
		"kernelspec": {
			"name": "glue_pyspark",
			"display_name": "Glue PySpark",
			"language": "python"
		},
		"language_info": {
			"name": "Python_Glue_Session",
			"mimetype": "text/x-python",
			"codemirror_mode": {
				"name": "python",
				"version": 3
			},
			"pygments_lexer": "python3",
			"file_extension": ".py"
		}
	},
	"nbformat_minor": 4,
	"nbformat": 4,
	"cells": [
		{
			"cell_type": "markdown",
			"source": "# AWS Glue Job - Load Commodities data to Bronze Stage from API source",
			"metadata": {
				"editable": true,
				"trusted": true
			}
		},
		{
			"cell_type": "markdown",
			"source": "## Set the Glue session parameters",
			"metadata": {}
		},
		{
			"cell_type": "code",
			"source": "%iam_role arn:aws:iam::212430227630:role/LabRole\n%region us-east-1\n%number_of_workers 2\n\n%idle_timeout 30\n%glue_version 4.0\n%worker_type G.1X\n\n%%configure \n{\n  \"--enable-metrics\": \"true\",\n  \"--enable-observability-metrics\": \"true\"\n}",
			"metadata": {
				"trusted": true,
				"editable": true
			},
			"execution_count": 8,
			"outputs": [
				{
					"name": "stdout",
					"text": "Welcome to the Glue Interactive Sessions Kernel\nFor more information on available magic commands, please type %help in any new cell.\n\nPlease view our Getting Started page to access the most up-to-date information on the Interactive Sessions kernel: https://docs.aws.amazon.com/glue/latest/dg/interactive-sessions.html\nInstalled kernel version: 1.0.5 \nCurrent iam_role is arn:aws:iam::212430227630:role/LabRole\niam_role has been set to arn:aws:iam::212430227630:role/LabRole.\nPrevious region: us-east-1\nSetting new region to: us-east-1\nRegion is set to: us-east-1\nPrevious number of workers: None\nSetting new number of workers to: 2\nCurrent idle_timeout is None minutes.\nidle_timeout has been set to 30 minutes.\nSetting Glue version to: 4.0\nPrevious worker type: None\nSetting new worker type to: G.1X\nThe following configurations have been updated: {'--enable-metrics': 'true', '--enable-observability-metrics': 'true'}\n",
					"output_type": "stream"
				}
			]
		},
		{
			"cell_type": "markdown",
			"source": "##  Set up and start your interactive session.\n",
			"metadata": {
				"editable": true,
				"trusted": true
			}
		},
		{
			"cell_type": "code",
			"source": "%load_ext autoreload\n%autoreload 2",
			"metadata": {
				"trusted": true,
				"tags": []
			},
			"execution_count": 11,
			"outputs": []
		},
		{
			"cell_type": "code",
			"source": "import sys\nimport boto3\n\nfrom awsglue.transforms import *\nfrom awsglue.utils import getResolvedOptions\nfrom pyspark.context import SparkContext\nfrom awsglue.context import GlueContext\nfrom awsglue.job import Job\n  \nsc = SparkContext.getOrCreate()\nglueContext = GlueContext(sc)\nspark = glueContext.spark_session\njob = Job(glueContext)",
			"metadata": {
				"trusted": true,
				"editable": true
			},
			"execution_count": 1,
			"outputs": [
				{
					"name": "stdout",
					"text": "Trying to create a Glue session for the kernel.\nSession Type: glueetl\nWorker Type: G.1X\nNumber of Workers: 2\nIdle Timeout: 30\nSession ID: a0e20fd9-377c-416f-8ab0-d9c088dc689b\nApplying the following default arguments:\n--glue_kernel_version 1.0.5\n--enable-glue-datacatalog true\n--enable-metrics true\n--enable-observability-metrics true\nWaiting for session a0e20fd9-377c-416f-8ab0-d9c088dc689b to get into ready status...\nSession a0e20fd9-377c-416f-8ab0-d9c088dc689b has been created.\n\n",
					"output_type": "stream"
				}
			]
		},
		{
			"cell_type": "markdown",
			"source": "## Transform Bronze data to Silver - FOREX\n",
			"metadata": {
				"editable": true,
				"trusted": true
			}
		},
		{
			"cell_type": "code",
			"source": "from datetime import datetime, timedelta, timezone\nfrom functools import reduce\n\nimport pyspark.sql.functions as F",
			"metadata": {
				"trusted": true,
				"tags": []
			},
			"execution_count": 2,
			"outputs": [
				{
					"name": "stdout",
					"text": "\n",
					"output_type": "stream"
				}
			]
		},
		{
			"cell_type": "markdown",
			"source": "### Set AWS Storage parameters\n",
			"metadata": {}
		},
		{
			"cell_type": "code",
			"source": "BUCKET_NAME = \"cryptoengineer\"\nPREFIX_BRONZE = \"datalake/bronze/forex\"",
			"metadata": {
				"trusted": true,
				"tags": []
			},
			"execution_count": 3,
			"outputs": [
				{
					"name": "stdout",
					"text": "\n",
					"output_type": "stream"
				}
			]
		},
		{
			"cell_type": "markdown",
			"source": "### Load job parameters",
			"metadata": {}
		},
		{
			"cell_type": "code",
			"source": "glue_client = boto3.client(\"glue\")\n# Check if params comde from a GLUE workflow\nif '--WORKFLOW_NAME' in sys.argv and '--WORKFLOW_RUN_ID' in sys.argv:\n    print(\"Running in Glue Workflow\")\n    \n    glue_args = getResolvedOptions(\n        sys.argv, ['WORKFLOW_NAME', 'WORKFLOW_RUN_ID']\n    )\n    \n    print(\"Reading the workflow parameters\")\n    workflow_args = glue_client.get_workflow_run_properties(\n        Name=glue_args['WORKFLOW_NAME'], RunId=glue_args['WORKFLOW_RUN_ID']\n    )[\"RunProperties\"]\n\n    \n    time_frame = int(workflow_args['time_frame'])\n    symbols = workflow_args['symbols']\n\nelse:\n    # Check if params comde from a Glue Job\n    try:\n        args = getResolvedOptions(sys.argv,\n                                  ['JOB_NAME',\n                                   'time_frame',\n                                   'symbols'\n                                   ])\n\n        time_frame = int(args['time_frame'])\n        symbols = args['symbols']\n        print(\"Running as Job\")\n    except:\n        print(\"Running as an interactive session\")\n        time_frame = 384\n        symbols = \"USDEUR\"\n",
			"metadata": {
				"trusted": true,
				"editable": true
			},
			"execution_count": 4,
			"outputs": [
				{
					"name": "stdout",
					"text": "Running as an interactive session\n",
					"output_type": "stream"
				}
			]
		},
		{
			"cell_type": "code",
			"source": "print(\"Time Frame: \", time_frame)\nprint(\"Symbols: \", symbols)",
			"metadata": {
				"trusted": true,
				"tags": []
			},
			"execution_count": 5,
			"outputs": [
				{
					"name": "stdout",
					"text": "Time Frame:  384\nSymbols:  USDEUR\n",
					"output_type": "stream"
				}
			]
		},
		{
			"cell_type": "markdown",
			"source": "#### Set the start and end dates for the data you want to load",
			"metadata": {
				"tags": []
			}
		},
		{
			"cell_type": "code",
			"source": "# Start date\nstart_date = (datetime.utcnow() - timedelta(hours=time_frame)).strftime(\"%Y-%m-%d\")\nend_date = datetime.utcnow().strftime(\"%Y-%m-%d\")\n\nprint(\"Start date; \",start_date,\" End date: \",end_date)",
			"metadata": {
				"trusted": true,
				"tags": []
			},
			"execution_count": 6,
			"outputs": [
				{
					"name": "stdout",
					"text": "Start date;  2024-09-07  End date:  2024-09-23\n",
					"output_type": "stream"
				}
			]
		},
		{
			"cell_type": "markdown",
			"source": "## Read max date loaded to Silver from the INFO table",
			"metadata": {}
		},
		{
			"cell_type": "code",
			"source": "PREFIX_INFO_TABLE='datalake/gold/forex'\npath=f\"s3://{BUCKET_NAME}/{PREFIX_INFO_TABLE}\"\nprint(\"Path:\", path)",
			"metadata": {
				"trusted": true,
				"tags": []
			},
			"execution_count": 7,
			"outputs": [
				{
					"name": "stdout",
					"text": "Path: s3://cryptoengineer/datalake/gold/forex\n",
					"output_type": "stream"
				}
			]
		},
		{
			"cell_type": "code",
			"source": "df_max_dates_silver = (\n    spark\n    .read\n    .parquet(path)\n    .filter(F.col(\"STAGE\")=='silver')\n    .select('symbol','base_currency','frequencies','end_datetime')\n    .toPandas()\n)",
			"metadata": {
				"trusted": true,
				"tags": []
			},
			"execution_count": 8,
			"outputs": [
				{
					"name": "stdout",
					"text": "/opt/amazon/spark/python/lib/pyspark.zip/pyspark/sql/pandas/conversion.py:248: FutureWarning: Passing unit-less datetime64 dtype to .astype is deprecated and will raise in a future version. Pass 'datetime64[ns]' instead\n  series = series.astype(t, copy=False)\n",
					"output_type": "stream"
				}
			]
		},
		{
			"cell_type": "code",
			"source": "df_max_dates_silver.head(10)",
			"metadata": {
				"trusted": true,
				"tags": []
			},
			"execution_count": 9,
			"outputs": [
				{
					"name": "stdout",
					"text": "   symbol base_currency frequencies        end_datetime\n0  USDJPY           USD       15min 2024-09-06 16:45:00\n1  USDEUR           USD       15min 2024-09-06 16:45:00\n2  USDGBP           USD       15min 2024-09-06 16:45:00\n3  USDCHF           USD       15min 2024-09-06 16:45:00\n",
					"output_type": "stream"
				}
			]
		},
		{
			"cell_type": "code",
			"source": "df_max_dates_silver.info()",
			"metadata": {
				"trusted": true,
				"tags": []
			},
			"execution_count": 10,
			"outputs": [
				{
					"name": "stdout",
					"text": "<class 'pandas.core.frame.DataFrame'>\nRangeIndex: 4 entries, 0 to 3\nData columns (total 4 columns):\n #   Column         Non-Null Count  Dtype         \n---  ------         --------------  -----         \n 0   symbol         4 non-null      object        \n 1   base_currency  4 non-null      object        \n 2   frequencies    4 non-null      object        \n 3   end_datetime   4 non-null      datetime64[ns]\ndtypes: datetime64[ns](1), object(3)\nmemory usage: 256.0+ bytes\n",
					"output_type": "stream"
				}
			]
		},
		{
			"cell_type": "markdown",
			"source": "## Load the Bronze/Raw data for the time frame and symbol",
			"metadata": {}
		},
		{
			"cell_type": "code",
			"source": "path=f\"s3://{BUCKET_NAME}/{PREFIX_BRONZE}\"\nprint(\"Path:\",path)",
			"metadata": {
				"trusted": true,
				"tags": []
			},
			"execution_count": 11,
			"outputs": [
				{
					"name": "stdout",
					"text": "Path: s3://cryptoengineer/datalake/bronze/forex\n",
					"output_type": "stream"
				}
			]
		},
		{
			"cell_type": "code",
			"source": "df= (\n    spark\n    .read\n    .parquet(path)\n    .filter(F.col(\"load_date\").between(start_date, end_date))\n)",
			"metadata": {
				"trusted": true,
				"tags": []
			},
			"execution_count": 12,
			"outputs": [
				{
					"name": "stdout",
					"text": "\n",
					"output_type": "stream"
				}
			]
		},
		{
			"cell_type": "code",
			"source": "print(\"Records: \", df.count())",
			"metadata": {
				"trusted": true,
				"tags": []
			},
			"execution_count": 13,
			"outputs": [
				{
					"name": "stdout",
					"text": "Records:  1269\n",
					"output_type": "stream"
				}
			]
		},
		{
			"cell_type": "code",
			"source": "df.show(5)",
			"metadata": {
				"trusted": true,
				"tags": []
			},
			"execution_count": 14,
			"outputs": [
				{
					"name": "stdout",
					"text": "+-------------------+-------+------+-------+-------+------+----+-----+---+--------+----------+-------------+------+---------+------+--------------------+-----+----------+\n|           datetime|   open|   low|   high|  close|volume|year|month|day|    time|      date|base_currency|source|frequency|symbol|          audit_time| type| load_date|\n+-------------------+-------+------+-------+-------+------+----+-----+---+--------+----------+-------------+------+---------+------+--------------------+-----+----------+\n|2024-09-23 05:00:00|0.90147|0.9009|0.90149|0.90124|   334|2024|   09| 23|05:00:00|2024-09-23|          USD|   FMP|    15min|USDEUR|2024-09-23 09:06:...|FOREX|2024-09-23|\n|2024-09-23 04:45:00|0.90115|0.9008| 0.9015|0.90149|  1130|2024|   09| 23|04:45:00|2024-09-23|          USD|   FMP|    15min|USDEUR|2024-09-23 09:06:...|FOREX|2024-09-23|\n|2024-09-23 04:30:00|0.90157|0.9011|0.90199|0.90119|  1461|2024|   09| 23|04:30:00|2024-09-23|          USD|   FMP|    15min|USDEUR|2024-09-23 09:06:...|FOREX|2024-09-23|\n|2024-09-23 04:15:00|0.90188|0.9012|0.90217| 0.9013|  1417|2024|   09| 23|04:15:00|2024-09-23|          USD|   FMP|    15min|USDEUR|2024-09-23 09:06:...|FOREX|2024-09-23|\n|2024-09-23 04:00:00|0.90088|0.9006|0.90223|0.90191|  1507|2024|   09| 23|04:00:00|2024-09-23|          USD|   FMP|    15min|USDEUR|2024-09-23 09:06:...|FOREX|2024-09-23|\n+-------------------+-------+------+-------+-------+------+----+-----+---+--------+----------+-------------+------+---------+------+--------------------+-----+----------+\nonly showing top 5 rows\n",
					"output_type": "stream"
				}
			]
		},
		{
			"cell_type": "code",
			"source": "df.printSchema()",
			"metadata": {
				"trusted": true,
				"tags": []
			},
			"execution_count": 15,
			"outputs": [
				{
					"name": "stdout",
					"text": "root\n |-- datetime: string (nullable = true)\n |-- open: double (nullable = true)\n |-- low: double (nullable = true)\n |-- high: double (nullable = true)\n |-- close: double (nullable = true)\n |-- volume: long (nullable = true)\n |-- year: string (nullable = true)\n |-- month: string (nullable = true)\n |-- day: string (nullable = true)\n |-- time: string (nullable = true)\n |-- date: string (nullable = true)\n |-- base_currency: string (nullable = true)\n |-- source: string (nullable = true)\n |-- frequency: string (nullable = true)\n |-- symbol: string (nullable = true)\n |-- audit_time: timestamp (nullable = true)\n |-- type: string (nullable = true)\n |-- load_date: date (nullable = true)\n",
					"output_type": "stream"
				}
			]
		},
		{
			"cell_type": "markdown",
			"source": "Get the symbols, base and freq to load",
			"metadata": {}
		},
		{
			"cell_type": "code",
			"source": "## Get symbol, base and freq to read\ndf_symbols =(\n    df\n    .groupBy('symbol','base_currency','frequency')\n    .count()\n    .toPandas()\n)",
			"metadata": {
				"trusted": true,
				"tags": []
			},
			"execution_count": 16,
			"outputs": [
				{
					"name": "stdout",
					"text": "\n",
					"output_type": "stream"
				}
			]
		},
		{
			"cell_type": "code",
			"source": "df_symbols.head(10)",
			"metadata": {
				"trusted": true,
				"tags": []
			},
			"execution_count": 17,
			"outputs": [
				{
					"name": "stdout",
					"text": "   symbol base_currency frequency  count\n0  USDEUR           USD     15min   1065\n1  USDJPY           USD     15min     68\n2  USDGBP           USD     15min     68\n3  USDCHF           USD     15min     68\n",
					"output_type": "stream"
				}
			]
		},
		{
			"cell_type": "markdown",
			"source": "## Extract only data not loaded into Silver",
			"metadata": {}
		},
		{
			"cell_type": "code",
			"source": "df_list=[]\nfor ind in df_symbols.index:\n    print(\"Symbol: \", df_symbols['symbol'][ind], \" Base: \", df_symbols['base_currency'][ind], \" Frequency: \", df_symbols['frequency'][ind])\n    # Get max date loaded to silver\n    max_datetime=df_max_dates_silver[(df_max_dates_silver['symbol'] ==df_symbols['symbol'][ind])\n                              & (df_max_dates_silver['base_currency'] ==df_symbols['base_currency'][ind])\n                              & (df_max_dates_silver['frequencies'] ==df_symbols['frequency'][ind])]['end_datetime'].max()\n    # Select the bronze data loaded to bronze where datetime > max datetime\n    df_new_data= (\n        df\n        .filter(F.col('symbol')==df_symbols['symbol'][ind])\n        .filter(F.col('base_currency')==df_symbols['base_currency'][ind])\n        .filter(F.col('frequency')==df_symbols['frequency'][ind])\n        .filter(F.col('datetime')>max_datetime)\n    )\n    print(\"Records: \", df_new_data.count())\n    df_list.append(df_new_data)",
			"metadata": {
				"trusted": true,
				"tags": []
			},
			"execution_count": 18,
			"outputs": [
				{
					"name": "stdout",
					"text": "Symbol:  USDEUR  Base:  USD  Frequency:  15min\nRecords:  997\nSymbol:  USDJPY  Base:  USD  Frequency:  15min\nRecords:  0\nSymbol:  USDGBP  Base:  USD  Frequency:  15min\nRecords:  0\nSymbol:  USDCHF  Base:  USD  Frequency:  15min\nRecords:  0\n",
					"output_type": "stream"
				}
			]
		},
		{
			"cell_type": "code",
			"source": "# Reduce and union al dataframes\ndf = reduce(lambda x, y: x.union(y), df_list)",
			"metadata": {
				"trusted": true,
				"tags": []
			},
			"execution_count": 19,
			"outputs": [
				{
					"name": "stdout",
					"text": "\n",
					"output_type": "stream"
				}
			]
		},
		{
			"cell_type": "code",
			"source": "df.count()",
			"metadata": {
				"trusted": true,
				"tags": []
			},
			"execution_count": 20,
			"outputs": [
				{
					"name": "stdout",
					"text": "997\n",
					"output_type": "stream"
				}
			]
		},
		{
			"cell_type": "markdown",
			"source": "## Remove and filter Rows",
			"metadata": {}
		},
		{
			"cell_type": "code",
			"source": "# To check duplicates\n\"\"\"\n(\n    df\n    .groupBy('symbol','year','datetime','source','frequency','type')\n    .count().alias('count')\n    #.filter(F.col('count') > 1)\n    .orderBy(F.col('datetime'), ascending=True)\n    .show(100)\n)\n\"\"\"",
			"metadata": {
				"trusted": true,
				"tags": []
			},
			"execution_count": null,
			"outputs": []
		},
		{
			"cell_type": "code",
			"source": "df = (\n    df\n    .dropDuplicates(['symbol','year','datetime','source','frequency','type'])\n)",
			"metadata": {
				"trusted": true,
				"tags": []
			},
			"execution_count": 21,
			"outputs": [
				{
					"name": "stdout",
					"text": "\n",
					"output_type": "stream"
				}
			]
		},
		{
			"cell_type": "code",
			"source": "print(\"After dropDuplicates: \", df.count())",
			"metadata": {
				"trusted": true,
				"tags": []
			},
			"execution_count": 22,
			"outputs": [
				{
					"name": "stdout",
					"text": "After dropDuplicates:  997\n",
					"output_type": "stream"
				}
			]
		},
		{
			"cell_type": "markdown",
			"source": "## Checking correct values",
			"metadata": {
				"tags": []
			}
		},
		{
			"cell_type": "code",
			"source": "\"\"\"\n(\n    df\n    .groupBy('source','type','symbol','year','frequency')\n    .count().alias('count')\n    #.filter(F.col('count') > 1)\n    .show()\n)\n\"\"\"",
			"metadata": {
				"trusted": true,
				"tags": []
			},
			"execution_count": null,
			"outputs": []
		},
		{
			"cell_type": "code",
			"source": "df.printSchema()",
			"metadata": {
				"trusted": true,
				"tags": []
			},
			"execution_count": 23,
			"outputs": [
				{
					"name": "stdout",
					"text": "root\n |-- datetime: string (nullable = true)\n |-- open: double (nullable = true)\n |-- low: double (nullable = true)\n |-- high: double (nullable = true)\n |-- close: double (nullable = true)\n |-- volume: long (nullable = true)\n |-- year: string (nullable = true)\n |-- month: string (nullable = true)\n |-- day: string (nullable = true)\n |-- time: string (nullable = true)\n |-- date: string (nullable = true)\n |-- base_currency: string (nullable = true)\n |-- source: string (nullable = true)\n |-- frequency: string (nullable = true)\n |-- symbol: string (nullable = true)\n |-- audit_time: timestamp (nullable = true)\n |-- type: string (nullable = true)\n |-- load_date: date (nullable = true)\n",
					"output_type": "stream"
				}
			]
		},
		{
			"cell_type": "markdown",
			"source": "## Change Schema and uppercase column names",
			"metadata": {}
		},
		{
			"cell_type": "code",
			"source": "df = (\n    df\n    .withColumn(\"datetime\", F.when(F.col(\"datetime\").rlike(\"^\\d{4}-\\d{2}-\\d{2}$\"), F.to_timestamp(F.concat(F.col(\"datetime\"), F.lit(\" 00:00:00\"))))\n                            .otherwise(F.to_timestamp(F.col(\"datetime\"))))\n    .withColumn('volume', F.col('volume').cast('double'))\n    .withColumn('month', F.col('month').cast('int'))\n    .withColumn('day', F.col('day').cast('int'))\n)",
			"metadata": {
				"trusted": true,
				"tags": []
			},
			"execution_count": 24,
			"outputs": [
				{
					"name": "stdout",
					"text": "\n",
					"output_type": "stream"
				}
			]
		},
		{
			"cell_type": "code",
			"source": "df = df.toDF(*[col.upper() for col in df.columns])",
			"metadata": {
				"trusted": true,
				"tags": []
			},
			"execution_count": 25,
			"outputs": [
				{
					"name": "stdout",
					"text": "\n",
					"output_type": "stream"
				}
			]
		},
		{
			"cell_type": "code",
			"source": "df.show(20)\ndf.printSchema()",
			"metadata": {
				"trusted": true,
				"tags": []
			},
			"execution_count": 26,
			"outputs": [
				{
					"name": "stdout",
					"text": "+-------------------+------+------+------+------+------+----+-----+---+--------+----------+-------------+------+---------+------+--------------------+-----+----------+\n|           DATETIME|  OPEN|   LOW|  HIGH| CLOSE|VOLUME|YEAR|MONTH|DAY|    TIME|      DATE|BASE_CURRENCY|SOURCE|FREQUENCY|SYMBOL|          AUDIT_TIME| TYPE| LOAD_DATE|\n+-------------------+------+------+------+------+------+----+-----+---+--------+----------+-------------+------+---------+------+--------------------+-----+----------+\n|2024-09-08 18:00:00|0.9019|0.9016|0.9019|0.9016|  15.0|2024|    9|  8|18:00:00|2024-09-08|          USD|   FMP|    15min|USDEUR|2024-09-23 09:06:...|FOREX|2024-09-23|\n|2024-09-08 18:15:00|0.9018|0.9016|0.9018|0.9017|  15.0|2024|    9|  8|18:15:00|2024-09-08|          USD|   FMP|    15min|USDEUR|2024-09-23 09:06:...|FOREX|2024-09-23|\n|2024-09-08 18:30:00|0.9016|0.9015|0.9016|0.9016|  15.0|2024|    9|  8|18:30:00|2024-09-08|          USD|   FMP|    15min|USDEUR|2024-09-23 09:06:...|FOREX|2024-09-23|\n|2024-09-08 18:45:00|0.9015|0.9015|0.9017|0.9017|  15.0|2024|    9|  8|18:45:00|2024-09-08|          USD|   FMP|    15min|USDEUR|2024-09-23 09:06:...|FOREX|2024-09-23|\n|2024-09-08 19:00:00|0.9017|0.9015|0.9017|0.9016|  15.0|2024|    9|  8|19:00:00|2024-09-08|          USD|   FMP|    15min|USDEUR|2024-09-23 09:06:...|FOREX|2024-09-23|\n|2024-09-08 19:15:00|0.9016|0.9015|0.9016|0.9015|  15.0|2024|    9|  8|19:15:00|2024-09-08|          USD|   FMP|    15min|USDEUR|2024-09-23 09:06:...|FOREX|2024-09-23|\n|2024-09-08 19:30:00|0.9015|0.9014|0.9016|0.9014|  15.0|2024|    9|  8|19:30:00|2024-09-08|          USD|   FMP|    15min|USDEUR|2024-09-23 09:06:...|FOREX|2024-09-23|\n|2024-09-08 19:45:00|0.9015|0.9015|0.9018|0.9018|  15.0|2024|    9|  8|19:45:00|2024-09-08|          USD|   FMP|    15min|USDEUR|2024-09-23 09:06:...|FOREX|2024-09-23|\n|2024-09-08 20:00:00|0.9018|0.9016|0.9019|0.9016|  15.0|2024|    9|  8|20:00:00|2024-09-08|          USD|   FMP|    15min|USDEUR|2024-09-23 09:06:...|FOREX|2024-09-23|\n|2024-09-08 20:15:00|0.9016|0.9014|0.9018|0.9018|  15.0|2024|    9|  8|20:15:00|2024-09-08|          USD|   FMP|    15min|USDEUR|2024-09-23 09:06:...|FOREX|2024-09-23|\n|2024-09-08 20:30:00|0.9018|0.9016|0.9019|0.9019|  15.0|2024|    9|  8|20:30:00|2024-09-08|          USD|   FMP|    15min|USDEUR|2024-09-23 09:06:...|FOREX|2024-09-23|\n|2024-09-08 20:45:00| 0.902|0.9019|0.9021|0.9021|  15.0|2024|    9|  8|20:45:00|2024-09-08|          USD|   FMP|    15min|USDEUR|2024-09-23 09:06:...|FOREX|2024-09-23|\n|2024-09-08 21:00:00| 0.902|0.9014| 0.902|0.9016|  15.0|2024|    9|  8|21:00:00|2024-09-08|          USD|   FMP|    15min|USDEUR|2024-09-23 09:06:...|FOREX|2024-09-23|\n|2024-09-08 21:15:00|0.9016|0.9015|0.9018|0.9017|  15.0|2024|    9|  8|21:15:00|2024-09-08|          USD|   FMP|    15min|USDEUR|2024-09-23 09:06:...|FOREX|2024-09-23|\n|2024-09-08 21:30:00|0.9018|0.9018| 0.902|0.9019|  15.0|2024|    9|  8|21:30:00|2024-09-08|          USD|   FMP|    15min|USDEUR|2024-09-23 09:06:...|FOREX|2024-09-23|\n|2024-09-08 21:45:00| 0.902| 0.902|0.9022|0.9021|  15.0|2024|    9|  8|21:45:00|2024-09-08|          USD|   FMP|    15min|USDEUR|2024-09-23 09:06:...|FOREX|2024-09-23|\n|2024-09-08 22:00:00|0.9022|0.9021|0.9023|0.9022|  15.0|2024|    9|  8|22:00:00|2024-09-08|          USD|   FMP|    15min|USDEUR|2024-09-23 09:06:...|FOREX|2024-09-23|\n|2024-09-08 22:15:00|0.9022|0.9021|0.9023|0.9022|  15.0|2024|    9|  8|22:15:00|2024-09-08|          USD|   FMP|    15min|USDEUR|2024-09-23 09:06:...|FOREX|2024-09-23|\n|2024-09-08 22:30:00|0.9022|0.9021|0.9022|0.9021|  15.0|2024|    9|  8|22:30:00|2024-09-08|          USD|   FMP|    15min|USDEUR|2024-09-23 09:06:...|FOREX|2024-09-23|\n|2024-09-08 22:45:00|0.9022|0.9021|0.9023|0.9023|  15.0|2024|    9|  8|22:45:00|2024-09-08|          USD|   FMP|    15min|USDEUR|2024-09-23 09:06:...|FOREX|2024-09-23|\n+-------------------+------+------+------+------+------+----+-----+---+--------+----------+-------------+------+---------+------+--------------------+-----+----------+\nonly showing top 20 rows\n\nroot\n |-- DATETIME: timestamp (nullable = true)\n |-- OPEN: double (nullable = true)\n |-- LOW: double (nullable = true)\n |-- HIGH: double (nullable = true)\n |-- CLOSE: double (nullable = true)\n |-- VOLUME: double (nullable = true)\n |-- YEAR: string (nullable = true)\n |-- MONTH: integer (nullable = true)\n |-- DAY: integer (nullable = true)\n |-- TIME: string (nullable = true)\n |-- DATE: string (nullable = true)\n |-- BASE_CURRENCY: string (nullable = true)\n |-- SOURCE: string (nullable = true)\n |-- FREQUENCY: string (nullable = true)\n |-- SYMBOL: string (nullable = true)\n |-- AUDIT_TIME: timestamp (nullable = true)\n |-- TYPE: string (nullable = true)\n |-- LOAD_DATE: date (nullable = true)\n",
					"output_type": "stream"
				}
			]
		},
		{
			"cell_type": "markdown",
			"source": "## Append the batch data to SILVER table",
			"metadata": {}
		},
		{
			"cell_type": "markdown",
			"source": "Set the destination silver table",
			"metadata": {}
		},
		{
			"cell_type": "code",
			"source": "# Set the destination silver table\nBUCKET_NAME = \"cryptoengineer\"\nPREFIX_SILVER = \"datalake/silver/forex\"",
			"metadata": {
				"trusted": true,
				"tags": []
			},
			"execution_count": 28,
			"outputs": [
				{
					"name": "stdout",
					"text": "\n",
					"output_type": "stream"
				}
			]
		},
		{
			"cell_type": "code",
			"source": "path=f\"s3://{BUCKET_NAME}/{PREFIX_SILVER}\"\nprint(\"Path:\",path)",
			"metadata": {
				"trusted": true,
				"tags": []
			},
			"execution_count": 29,
			"outputs": [
				{
					"name": "stdout",
					"text": "Path: s3://cryptoengineer/datalake/silver/forex\n",
					"output_type": "stream"
				}
			]
		},
		{
			"cell_type": "code",
			"source": "(\n    df\n    .repartition(\"YEAR\")\n    .write\n    .format(\"parquet\")\n    .mode(\"append\")\n    .partitionBy(['SYMBOL','YEAR'])\n    .save(path)\n)",
			"metadata": {
				"trusted": true,
				"tags": []
			},
			"execution_count": 32,
			"outputs": [
				{
					"name": "stdout",
					"text": "\n",
					"output_type": "stream"
				}
			]
		},
		{
			"cell_type": "code",
			"source": "",
			"metadata": {},
			"execution_count": null,
			"outputs": []
		}
	]
}