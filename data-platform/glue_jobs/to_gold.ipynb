{
	"metadata": {
		"kernelspec": {
			"name": "glue_pyspark",
			"display_name": "Glue PySpark",
			"language": "python"
		},
		"language_info": {
			"name": "Python_Glue_Session",
			"mimetype": "text/x-python",
			"codemirror_mode": {
				"name": "python",
				"version": 3
			},
			"pygments_lexer": "python3",
			"file_extension": ".py"
		}
	},
	"nbformat_minor": 4,
	"nbformat": 4,
	"cells": [
		{
			"cell_type": "markdown",
			"source": "# AWS Glue Job - Load into Gold Stage",
			"metadata": {
				"editable": true,
				"trusted": true
			}
		},
		{
			"cell_type": "markdown",
			"source": "## Set the Glue session parameters\n",
			"metadata": {
				"editable": true,
				"trusted": true
			}
		},
		{
			"cell_type": "code",
			"source": "%iam_role arn:aws:iam::212430227630:role/LabRole\n%region us-east-1\n%number_of_workers 2\n\n%idle_timeout 30\n%glue_version 4.0\n%worker_type G.1X\n\n%%configure \n{\n  \"--enable-metrics\": \"true\",\n  \"--enable-observability-metrics\": \"true\"\n}",
			"metadata": {
				"trusted": true,
				"editable": true
			},
			"execution_count": 8,
			"outputs": [
				{
					"name": "stdout",
					"text": "Welcome to the Glue Interactive Sessions Kernel\nFor more information on available magic commands, please type %help in any new cell.\n\nPlease view our Getting Started page to access the most up-to-date information on the Interactive Sessions kernel: https://docs.aws.amazon.com/glue/latest/dg/interactive-sessions.html\nInstalled kernel version: 1.0.5 \nCurrent iam_role is arn:aws:iam::212430227630:role/LabRole\niam_role has been set to arn:aws:iam::212430227630:role/LabRole.\nPrevious region: us-east-1\nSetting new region to: us-east-1\nRegion is set to: us-east-1\nPrevious number of workers: None\nSetting new number of workers to: 2\nCurrent idle_timeout is None minutes.\nidle_timeout has been set to 30 minutes.\nSetting Glue version to: 4.0\nPrevious worker type: None\nSetting new worker type to: G.1X\nThe following configurations have been updated: {'--enable-metrics': 'true', '--enable-observability-metrics': 'true'}\n",
					"output_type": "stream"
				}
			]
		},
		{
			"cell_type": "markdown",
			"source": "##  Set up and start your interactive session.\n",
			"metadata": {
				"editable": true,
				"trusted": true
			}
		},
		{
			"cell_type": "code",
			"source": "%load_ext autoreload\n%autoreload 2",
			"metadata": {
				"trusted": true,
				"tags": []
			},
			"execution_count": 11,
			"outputs": []
		},
		{
			"cell_type": "code",
			"source": "import sys\nimport boto3\n\nfrom awsglue.transforms import *\nfrom awsglue.utils import getResolvedOptions\nfrom pyspark.context import SparkContext\nfrom awsglue.context import GlueContext\nfrom awsglue.job import Job\n  \nsc = SparkContext.getOrCreate()\nglueContext = GlueContext(sc)\nspark = glueContext.spark_session\njob = Job(glueContext)",
			"metadata": {
				"trusted": true,
				"editable": true
			},
			"execution_count": 1,
			"outputs": [
				{
					"name": "stdout",
					"text": "Trying to create a Glue session for the kernel.\nSession Type: glueetl\nWorker Type: G.1X\nNumber of Workers: 2\nIdle Timeout: 30\nSession ID: 6dab6f7d-1e5c-417e-8fd4-7da49de134e8\nApplying the following default arguments:\n--glue_kernel_version 1.0.5\n--enable-glue-datacatalog true\n--enable-metrics true\n--enable-observability-metrics true\nWaiting for session 6dab6f7d-1e5c-417e-8fd4-7da49de134e8 to get into ready status...\nSession 6dab6f7d-1e5c-417e-8fd4-7da49de134e8 has been created.\n\n",
					"output_type": "stream"
				}
			]
		},
		{
			"cell_type": "markdown",
			"source": "## Save INFO data to Gold\n",
			"metadata": {
				"editable": true,
				"trusted": true
			}
		},
		{
			"cell_type": "code",
			"source": "from datetime import datetime, timedelta, timezone\n\nimport pyspark.sql.functions as F",
			"metadata": {
				"trusted": true,
				"tags": []
			},
			"execution_count": 2,
			"outputs": [
				{
					"name": "stdout",
					"text": "\n",
					"output_type": "stream"
				}
			]
		},
		{
			"cell_type": "markdown",
			"source": "### Set AWS Storage parameters\n",
			"metadata": {}
		},
		{
			"cell_type": "code",
			"source": "BUCKET_NAME = \"cryptoengineer\"\nPREFIX_SILVER = \"datalake/silver\"\nPREFIX_BRONZE = \"datalake/bronze\"\nPREFIX_GOLD = \"datalake/gold\"",
			"metadata": {
				"trusted": true,
				"tags": []
			},
			"execution_count": 3,
			"outputs": [
				{
					"name": "stdout",
					"text": "\n",
					"output_type": "stream"
				}
			]
		},
		{
			"cell_type": "markdown",
			"source": "### Load job parameters",
			"metadata": {}
		},
		{
			"cell_type": "code",
			"source": "glue_client = boto3.client(\"glue\")\n# Check if params comde from a GLUE workflow\nif '--WORKFLOW_NAME' in sys.argv and '--WORKFLOW_RUN_ID' in sys.argv:\n    print(\"Running in Glue Workflow\")\n    \n    glue_args = getResolvedOptions(\n        sys.argv, ['WORKFLOW_NAME', 'WORKFLOW_RUN_ID']\n    )\n    \n    print(\"Reading the workflow parameters\")\n    workflow_args = glue_client.get_workflow_run_properties(\n        Name=glue_args['WORKFLOW_NAME'], RunId=glue_args['WORKFLOW_RUN_ID']\n    )[\"RunProperties\"]\n\n    \n    type = workflow_args['type']\n    stage = \"silver\"\nelse:\n    # Check if params comde from a Glue Job\n    try:\n        args = getResolvedOptions(sys.argv,\n                                  ['JOB_NAME',\n                                   'type',\n                                   'stage'\n                                   ])\n\n        type = args['type']\n        stage = args['stage']\n        print(\"Running as Job\")\n    except:\n        # Set the params for an interactive session\n        print(\"Running as an interactive session\")\n        type = \"forex\"\n        stage = \"silver\"\n",
			"metadata": {
				"trusted": true,
				"editable": true
			},
			"execution_count": 4,
			"outputs": [
				{
					"name": "stdout",
					"text": "Running as an interactive session\n",
					"output_type": "stream"
				}
			]
		},
		{
			"cell_type": "code",
			"source": "print(\"Type: \", type)\nprint(\"Stage: \", stage)",
			"metadata": {
				"trusted": true,
				"tags": []
			},
			"execution_count": 5,
			"outputs": [
				{
					"name": "stdout",
					"text": "Type:  forex\nStage:  silver\n",
					"output_type": "stream"
				}
			]
		},
		{
			"cell_type": "markdown",
			"source": "## Read data for Bronze Stage",
			"metadata": {}
		},
		{
			"cell_type": "code",
			"source": "path=f\"s3://{BUCKET_NAME}/{PREFIX_BRONZE}/{type}\"\nprint(\"Path:\",path)",
			"metadata": {
				"trusted": true,
				"tags": []
			},
			"execution_count": 6,
			"outputs": [
				{
					"name": "stdout",
					"text": "Path: s3://cryptoengineer/datalake/bronze/forex\n",
					"output_type": "stream"
				}
			]
		},
		{
			"cell_type": "code",
			"source": "#Llevo a cabo la lectura del parquet correspondiente al tipo de asset para bronze\ndf_bronze = (\n    spark\n    .read\n    #.select('symbol', 'datetime', 'timestamp')\n    .parquet(path)\n)\n\ndf_bronze.printSchema()\ndf_bronze.show(5)",
			"metadata": {
				"trusted": true,
				"tags": []
			},
			"execution_count": 7,
			"outputs": [
				{
					"name": "stdout",
					"text": "root\n |-- datetime: string (nullable = true)\n |-- open: double (nullable = true)\n |-- low: double (nullable = true)\n |-- high: double (nullable = true)\n |-- close: double (nullable = true)\n |-- volume: long (nullable = true)\n |-- year: string (nullable = true)\n |-- month: string (nullable = true)\n |-- day: string (nullable = true)\n |-- time: string (nullable = true)\n |-- date: string (nullable = true)\n |-- base_currency: string (nullable = true)\n |-- source: string (nullable = true)\n |-- frequency: string (nullable = true)\n |-- symbol: string (nullable = true)\n |-- audit_time: timestamp (nullable = true)\n |-- type: string (nullable = true)\n |-- load_date: date (nullable = true)\n\n+-------------------+-------+-------+-------+-------+------+----+-----+---+--------+----------+-------------+------+---------+------+--------------------+-----+----------+\n|           datetime|   open|    low|   high|  close|volume|year|month|day|    time|      date|base_currency|source|frequency|symbol|          audit_time| type| load_date|\n+-------------------+-------+-------+-------+-------+------+----+-----+---+--------+----------+-------------+------+---------+------+--------------------+-----+----------+\n|2017-01-31 23:45:00|0.79507|0.79505| 0.7954|0.79531|   849|2017|   01| 31|23:45:00|2017-01-31|          USD|   FMP|    15min|USDGBP|2024-08-29 16:44:...|FOREX|2024-08-29|\n|2017-01-31 23:30:00|0.79529|0.79507|0.79544|0.79515|   716|2017|   01| 31|23:30:00|2017-01-31|          USD|   FMP|    15min|USDGBP|2024-08-29 16:44:...|FOREX|2024-08-29|\n|2017-01-31 23:15:00|0.79524|0.79515|0.79549|0.79529|   768|2017|   01| 31|23:15:00|2017-01-31|          USD|   FMP|    15min|USDGBP|2024-08-29 16:44:...|FOREX|2024-08-29|\n|2017-01-31 23:00:00|0.79532|0.79509|0.79534|0.79529|   537|2017|   01| 31|23:00:00|2017-01-31|          USD|   FMP|    15min|USDGBP|2024-08-29 16:44:...|FOREX|2024-08-29|\n|2017-01-31 22:45:00|0.79544|0.79515|0.79556|0.79525|   532|2017|   01| 31|22:45:00|2017-01-31|          USD|   FMP|    15min|USDGBP|2024-08-29 16:44:...|FOREX|2024-08-29|\n+-------------------+-------+-------+-------+-------+------+----+-----+---+--------+----------+-------------+------+---------+------+--------------------+-----+----------+\nonly showing top 5 rows\n",
					"output_type": "stream"
				}
			]
		},
		{
			"cell_type": "markdown",
			"source": "## Read data for Silver Stage",
			"metadata": {}
		},
		{
			"cell_type": "code",
			"source": "path=f\"s3://{BUCKET_NAME}/{PREFIX_SILVER}/{type}\"\nprint(\"Path:\",path)",
			"metadata": {
				"trusted": true,
				"tags": []
			},
			"execution_count": 8,
			"outputs": [
				{
					"name": "stdout",
					"text": "Path: s3://cryptoengineer/datalake/silver/forex\n",
					"output_type": "stream"
				}
			]
		},
		{
			"cell_type": "code",
			"source": "#Llevo a cabo la lectura del parquet correspondiente al tipo de asset para silver\ndf_silver = (\n    spark\n    .read\n    #.select('symbol', 'datetime', 'timestamp')\n    .parquet(path)\n)\n\ndf_silver.printSchema()\ndf_silver.show(5)",
			"metadata": {
				"trusted": true,
				"tags": []
			},
			"execution_count": 9,
			"outputs": [
				{
					"name": "stdout",
					"text": "root\n |-- DATETIME: timestamp (nullable = true)\n |-- OPEN: double (nullable = true)\n |-- LOW: double (nullable = true)\n |-- HIGH: double (nullable = true)\n |-- CLOSE: double (nullable = true)\n |-- VOLUME: double (nullable = true)\n |-- MONTH: integer (nullable = true)\n |-- DAY: integer (nullable = true)\n |-- TIME: string (nullable = true)\n |-- DATE: string (nullable = true)\n |-- BASE_CURRENCY: string (nullable = true)\n |-- SOURCE: string (nullable = true)\n |-- FREQUENCY: string (nullable = true)\n |-- AUDIT_TIME: timestamp (nullable = true)\n |-- TYPE: string (nullable = true)\n |-- LOAD_DATE: date (nullable = true)\n |-- SYMBOL: string (nullable = true)\n |-- YEAR: integer (nullable = true)\n\n+-------------------+-------+-------+-------+-------+------+-----+---+--------+----------+-------------+------+---------+--------------------+-----+----------+------+----+\n|           DATETIME|   OPEN|    LOW|   HIGH|  CLOSE|VOLUME|MONTH|DAY|    TIME|      DATE|BASE_CURRENCY|SOURCE|FREQUENCY|          AUDIT_TIME| TYPE| LOAD_DATE|SYMBOL|YEAR|\n+-------------------+-------+-------+-------+-------+------+-----+---+--------+----------+-------------+------+---------+--------------------+-----+----------+------+----+\n|2018-01-01 01:45:00|0.74047|0.74025| 0.7411| 0.7409|  20.0|    1|  1|01:45:00|2018-01-01|          USD|   FMP|    15min|2024-08-29 16:44:...|FOREX|2024-08-29|USDGBP|2018|\n|2018-01-01 02:15:00|0.74115|0.74055|0.74115| 0.7407|   6.0|    1|  1|02:15:00|2018-01-01|          USD|   FMP|    15min|2024-08-29 16:44:...|FOREX|2024-08-29|USDGBP|2018|\n|2018-01-01 04:15:00|  0.741| 0.7409|0.74135|0.74107|  12.0|    1|  1|04:15:00|2018-01-01|          USD|   FMP|    15min|2024-08-29 16:44:...|FOREX|2024-08-29|USDGBP|2018|\n|2018-01-01 08:30:00|0.74109|  0.741|0.74109|0.74102|   5.0|    1|  1|08:30:00|2018-01-01|          USD|   FMP|    15min|2024-08-29 16:44:...|FOREX|2024-08-29|USDGBP|2018|\n|2018-01-01 11:15:00|0.74101| 0.7408|0.74113| 0.7408|  16.0|    1|  1|11:15:00|2018-01-01|          USD|   FMP|    15min|2024-08-29 16:44:...|FOREX|2024-08-29|USDGBP|2018|\n+-------------------+-------+-------+-------+-------+------+-----+---+--------+----------+-------------+------+---------+--------------------+-----+----------+------+----+\nonly showing top 5 rows\n",
					"output_type": "stream"
				}
			]
		},
		{
			"cell_type": "markdown",
			"source": "## Generate INFO data for Bronze stage",
			"metadata": {}
		},
		{
			"cell_type": "code",
			"source": "#llevo a cabo una agregación sobre cada simbolo y genero columnas adicionales para gold\nif type == 'cryptos':\n    table = 'bronze_t_cryptos'\nelif type == 'indices':\n    table = 'bronze_t_indices'\nelif type == 'forex':\n    table = 'bronze_t_forex'    \nelif type == 'commodities':\n    table = 'bronze_t_commodities'      \n\nprint(\"Table: \", table)",
			"metadata": {
				"trusted": true,
				"tags": []
			},
			"execution_count": 10,
			"outputs": [
				{
					"name": "stdout",
					"text": "Table:  bronze_t_forex\n",
					"output_type": "stream"
				}
			]
		},
		{
			"cell_type": "code",
			"source": "\"\"\"\n(\n    df_bronze\n    .withColumn(\"datetime\", \n                F.when(F.col(\"datetime\").rlike(\"^\\d{4}-\\d{2}-\\d{2}$\"),F.concat(F.col(\"datetime\"), F.lit(\" 00:00:00\")))\n                .otherwise(F.col(\"datetime\")))\n    .groupBy(\"symbol\",\"frequency\",\"base_currency\")\n    .agg(\n        F.min('datetime').alias('INIT_DATETIME'),\n        F.max('datetime').alias('END_DATETIME'),\n    )\n    .withColumn(\"STAGE\", F.lit('bronze'))\n    .withColumn(\"TYPE\", F.lit(type))\n    .withColumn(\"TABLE\", F.lit(table))\n    .select(\"STAGE\", \"TABLE\", \"SYMBOL\", \"BASE_CURRENCY\", \"TYPE\", \"INIT_DATETIME\", \"END_DATETIME\", \"FREQUENCY\")\n    .withColumn(\"INIT_DATETIME\", F.to_timestamp(F.col(\"INIT_DATETIME\"), 'yyyy-MM-dd HH:mm:ss'))\n    .withColumn(\"END_DATETIME\", F.to_timestamp(F.col(\"END_DATETIME\"), 'yyyy-MM-dd HH:mm:ss'))\n    .withColumnRenamed(\"FREQUENCY\", \"FREQUENCIES\") \n    .orderBy(\"STAGE\", \"TYPE\")\n ).show(20)\n \"\"\"",
			"metadata": {
				"trusted": true,
				"tags": []
			},
			"execution_count": 11,
			"outputs": [
				{
					"name": "stdout",
					"text": "+------+--------------------+------+-------------+-----------+-------------------+-------------------+-----------+\n| STAGE|               TABLE|SYMBOL|BASE_CURRENCY|       TYPE|      INIT_DATETIME|       END_DATETIME|FREQUENCIES|\n+------+--------------------+------+-------------+-----------+-------------------+-------------------+-----------+\n|bronze|bronze_t_commodities| BZUSD|          USD|commodities|2023-09-24 18:00:00|2024-09-06 16:45:00|      15min|\n|bronze|bronze_t_commodities| BZUSD|          USD|commodities|2019-09-02 00:00:00|2024-09-06 00:00:00|       1day|\n|bronze|bronze_t_commodities| CLUSD|          USD|commodities|2023-10-01 18:00:00|2024-09-06 16:45:00|      15min|\n|bronze|bronze_t_commodities| CLUSD|          USD|commodities|2019-09-03 00:00:00|2024-09-06 00:00:00|       1day|\n|bronze|bronze_t_commodities| GCUSD|          USD|commodities|2023-09-24 18:00:00|2024-09-06 16:45:00|      15min|\n|bronze|bronze_t_commodities| GCUSD|          USD|commodities|2019-09-02 00:00:00|2024-09-06 00:00:00|       1day|\n|bronze|bronze_t_commodities| NGUSD|          USD|commodities|2023-10-01 18:00:00|2024-09-06 16:45:00|      15min|\n|bronze|bronze_t_commodities| NGUSD|          USD|commodities|2019-09-02 00:00:00|2024-09-06 00:00:00|       1day|\n+------+--------------------+------+-------------+-----------+-------------------+-------------------+-----------+\n",
					"output_type": "stream"
				}
			]
		},
		{
			"cell_type": "code",
			"source": "    \ninfo_df_bronze = (\n    df_bronze\n    .withColumn(\"datetime\", \n                F.when(F.col(\"datetime\").rlike(\"^\\d{4}-\\d{2}-\\d{2}$\"),F.concat(F.col(\"datetime\"), F.lit(\" 00:00:00\")))\n                .otherwise(F.col(\"datetime\")))\n    .groupBy(\"symbol\",\"frequency\",\"base_currency\")\n    .agg(\n        F.min('datetime').alias('INIT_DATETIME'),\n        F.max('datetime').alias('END_DATETIME'),\n    )\n    .withColumn(\"STAGE\", F.lit('bronze'))\n    .withColumn(\"TYPE\", F.lit(type))\n    .withColumn(\"TABLE\", F.lit(table))\n    .select(\"STAGE\", \"TABLE\", \"SYMBOL\", \"BASE_CURRENCY\", \"TYPE\", \"INIT_DATETIME\", \"END_DATETIME\", \"FREQUENCY\")\n    .withColumn(\"INIT_DATETIME\", F.to_timestamp(F.col(\"INIT_DATETIME\"), 'yyyy-MM-dd HH:mm:ss'))\n    .withColumn(\"END_DATETIME\", F.to_timestamp(F.col(\"END_DATETIME\"), 'yyyy-MM-dd HH:mm:ss'))\n    .withColumnRenamed(\"FREQUENCY\", \"FREQUENCIES\") \n    .orderBy(\"STAGE\", \"TYPE\")\n)\n\ninfo_df_bronze.printSchema()\ninfo_df_bronze.show(20)",
			"metadata": {
				"trusted": true,
				"tags": []
			},
			"execution_count": 11,
			"outputs": [
				{
					"name": "stdout",
					"text": "root\n |-- STAGE: string (nullable = false)\n |-- TABLE: string (nullable = false)\n |-- SYMBOL: string (nullable = true)\n |-- BASE_CURRENCY: string (nullable = true)\n |-- TYPE: string (nullable = false)\n |-- INIT_DATETIME: timestamp (nullable = true)\n |-- END_DATETIME: timestamp (nullable = true)\n |-- FREQUENCIES: string (nullable = true)\n\n+------+--------------+------+-------------+-----+-------------------+-------------------+-----------+\n| STAGE|         TABLE|SYMBOL|BASE_CURRENCY| TYPE|      INIT_DATETIME|       END_DATETIME|FREQUENCIES|\n+------+--------------+------+-------------+-----+-------------------+-------------------+-----------+\n|bronze|bronze_t_forex|USDCHF|          USD|forex|2017-01-01 18:00:00|2024-09-06 16:45:00|      15min|\n|bronze|bronze_t_forex|USDEUR|          USD|forex|2017-01-01 17:15:00|2024-09-23 05:00:00|      15min|\n|bronze|bronze_t_forex|USDGBP|          USD|forex|2017-01-01 17:15:00|2024-09-06 16:45:00|      15min|\n|bronze|bronze_t_forex|USDJPY|          USD|forex|2017-01-01 18:00:00|2024-09-06 16:45:00|      15min|\n+------+--------------+------+-------------+-----+-------------------+-------------------+-----------+\n",
					"output_type": "stream"
				}
			]
		},
		{
			"cell_type": "markdown",
			"source": "## Generate INFO data for Silver stage",
			"metadata": {
				"tags": []
			}
		},
		{
			"cell_type": "code",
			"source": "#llevo a cabo una agregación sobre cada simbolo y genero columnas adicionales para gold\nif type == 'cryptos':\n    table = 'silver_t_cryptos'\nelif type == 'indices':\n    table = 'silver_t_indices'\nelif type == 'forex':\n    table = 'silver_t_forex'    \nelif type == 'commodities':\n    table = 'silver_t_commodities'      \n\nprint(\"Table: \", table)",
			"metadata": {
				"trusted": true,
				"tags": []
			},
			"execution_count": 12,
			"outputs": [
				{
					"name": "stdout",
					"text": "Table:  silver_t_forex\n",
					"output_type": "stream"
				}
			]
		},
		{
			"cell_type": "code",
			"source": "\"\"\"\n(\n    df_silver\n    .groupBy(\"symbol\",\"frequency\",\"base_currency\")\n    .agg(\n        F.min('datetime').alias('INIT_DATETIME'),\n        F.max('datetime').alias('END_DATETIME'),\n    )\n    .withColumn(\"STAGE\", F.lit('silver'))\n    .withColumn(\"TYPE\", F.lit(type))        \n    .withColumn(\"TABLE\", F.lit(table))\n    .select(\"STAGE\", \"TABLE\", \"SYMBOL\", \"BASE_CURRENCY\", \"TYPE\", \"INIT_DATETIME\", \"END_DATETIME\", \"FREQUENCY\")\n    .withColumnRenamed(\"FREQUENCY\", \"FREQUENCIES\") \n    .orderBy(\"STAGE\", \"TYPE\")\n ).show(20)\n \"\"\"",
			"metadata": {
				"trusted": true,
				"tags": []
			},
			"execution_count": 14,
			"outputs": [
				{
					"name": "stdout",
					"text": "+------+--------------------+------+-------------+-----------+-------------------+-------------------+-----------+\n| STAGE|               TABLE|SYMBOL|BASE_CURRENCY|       TYPE|      INIT_DATETIME|       END_DATETIME|FREQUENCIES|\n+------+--------------------+------+-------------+-----------+-------------------+-------------------+-----------+\n|silver|silver_t_commodities| GCUSD|          USD|commodities|2019-09-02 00:00:00|2024-09-06 00:00:00|       1day|\n|silver|silver_t_commodities| NGUSD|          USD|commodities|2019-09-02 00:00:00|2024-09-06 00:00:00|       1day|\n|silver|silver_t_commodities| GCUSD|          USD|commodities|2023-09-24 18:00:00|2024-09-06 16:45:00|      15min|\n|silver|silver_t_commodities| BZUSD|          USD|commodities|2019-09-02 00:00:00|2024-09-06 00:00:00|       1day|\n|silver|silver_t_commodities| CLUSD|          USD|commodities|2023-10-01 18:00:00|2024-09-06 16:45:00|      15min|\n|silver|silver_t_commodities| CLUSD|          USD|commodities|2019-09-03 00:00:00|2024-09-06 00:00:00|       1day|\n|silver|silver_t_commodities| NGUSD|          USD|commodities|2023-10-01 18:00:00|2024-09-06 16:45:00|      15min|\n|silver|silver_t_commodities| BZUSD|          USD|commodities|2023-09-24 18:00:00|2024-09-06 16:45:00|      15min|\n+------+--------------------+------+-------------+-----------+-------------------+-------------------+-----------+\n",
					"output_type": "stream"
				}
			]
		},
		{
			"cell_type": "code",
			"source": "    \ninfo_df_silver = (\n    df_silver\n    .withColumn(\"datetime\", \n                F.when(F.col(\"datetime\").rlike(\"^\\d{4}-\\d{2}-\\d{2}$\"),F.concat(F.col(\"datetime\"), F.lit(\" 00:00:00\")))\n                .otherwise(F.col(\"datetime\")))\n    .groupBy(\"symbol\",\"frequency\",\"base_currency\")\n    .agg(\n        F.min('datetime').alias('INIT_DATETIME'),\n        F.max('datetime').alias('END_DATETIME'),\n    )\n    .withColumn(\"STAGE\", F.lit('silver'))\n    .withColumn(\"TYPE\", F.lit(type))        \n    .withColumn(\"TABLE\", F.lit(table))\n    .select(\"STAGE\", \"TABLE\", \"SYMBOL\", \"BASE_CURRENCY\", \"TYPE\", \"INIT_DATETIME\", \"END_DATETIME\", \"FREQUENCY\")\n    .withColumn(\"INIT_DATETIME\", F.to_timestamp(F.col(\"INIT_DATETIME\"), 'yyyy-MM-dd HH:mm:ss'))\n    .withColumn(\"END_DATETIME\", F.to_timestamp(F.col(\"END_DATETIME\"), 'yyyy-MM-dd HH:mm:ss'))\n    .withColumnRenamed(\"FREQUENCY\", \"FREQUENCIES\") \n    .orderBy(\"STAGE\", \"TYPE\")\n )\n\ninfo_df_silver.printSchema()\ninfo_df_silver.show(20)",
			"metadata": {
				"trusted": true,
				"tags": []
			},
			"execution_count": 13,
			"outputs": [
				{
					"name": "stdout",
					"text": "root\n |-- STAGE: string (nullable = false)\n |-- TABLE: string (nullable = false)\n |-- SYMBOL: string (nullable = true)\n |-- BASE_CURRENCY: string (nullable = true)\n |-- TYPE: string (nullable = false)\n |-- INIT_DATETIME: timestamp (nullable = true)\n |-- END_DATETIME: timestamp (nullable = true)\n |-- FREQUENCIES: string (nullable = true)\n\n+------+--------------+------+-------------+-----+-------------------+-------------------+-----------+\n| STAGE|         TABLE|SYMBOL|BASE_CURRENCY| TYPE|      INIT_DATETIME|       END_DATETIME|FREQUENCIES|\n+------+--------------+------+-------------+-----+-------------------+-------------------+-----------+\n|silver|silver_t_forex|USDCHF|          USD|forex|2017-01-01 18:00:00|2024-09-06 16:45:00|      15min|\n|silver|silver_t_forex|USDEUR|          USD|forex|2017-01-01 17:15:00|2024-09-23 05:00:00|      15min|\n|silver|silver_t_forex|USDGBP|          USD|forex|2017-01-01 17:15:00|2024-09-06 16:45:00|      15min|\n|silver|silver_t_forex|USDJPY|          USD|forex|2017-01-01 18:00:00|2024-09-06 16:45:00|      15min|\n+------+--------------+------+-------------+-----+-------------------+-------------------+-----------+\n",
					"output_type": "stream"
				}
			]
		},
		{
			"cell_type": "markdown",
			"source": "## Update INFO data for TYPE in Gold Stage",
			"metadata": {
				"tags": []
			}
		},
		{
			"cell_type": "code",
			"source": "path=f\"s3://{BUCKET_NAME}/{PREFIX_GOLD}/{type}\"\nprint(\"Path:\",path)",
			"metadata": {
				"trusted": true,
				"tags": []
			},
			"execution_count": 14,
			"outputs": [
				{
					"name": "stdout",
					"text": "Path: s3://cryptoengineer/datalake/gold/forex\n",
					"output_type": "stream"
				}
			]
		},
		{
			"cell_type": "code",
			"source": "# Combino los elementos de df_gold\ninfo_df_gold = info_df_bronze.union(info_df_silver)\n\ninfo_df_gold.printSchema()\ninfo_df_gold.show(20)",
			"metadata": {
				"trusted": true,
				"tags": []
			},
			"execution_count": 15,
			"outputs": [
				{
					"name": "stdout",
					"text": "root\n |-- STAGE: string (nullable = false)\n |-- TABLE: string (nullable = false)\n |-- SYMBOL: string (nullable = true)\n |-- BASE_CURRENCY: string (nullable = true)\n |-- TYPE: string (nullable = false)\n |-- INIT_DATETIME: timestamp (nullable = true)\n |-- END_DATETIME: timestamp (nullable = true)\n |-- FREQUENCIES: string (nullable = true)\n\n+------+--------------+------+-------------+-----+-------------------+-------------------+-----------+\n| STAGE|         TABLE|SYMBOL|BASE_CURRENCY| TYPE|      INIT_DATETIME|       END_DATETIME|FREQUENCIES|\n+------+--------------+------+-------------+-----+-------------------+-------------------+-----------+\n|bronze|bronze_t_forex|USDCHF|          USD|forex|2017-01-01 18:00:00|2024-09-06 16:45:00|      15min|\n|bronze|bronze_t_forex|USDEUR|          USD|forex|2017-01-01 17:15:00|2024-09-23 05:00:00|      15min|\n|bronze|bronze_t_forex|USDGBP|          USD|forex|2017-01-01 17:15:00|2024-09-06 16:45:00|      15min|\n|bronze|bronze_t_forex|USDJPY|          USD|forex|2017-01-01 18:00:00|2024-09-06 16:45:00|      15min|\n|silver|silver_t_forex|USDCHF|          USD|forex|2017-01-01 18:00:00|2024-09-06 16:45:00|      15min|\n|silver|silver_t_forex|USDEUR|          USD|forex|2017-01-01 17:15:00|2024-09-23 05:00:00|      15min|\n|silver|silver_t_forex|USDGBP|          USD|forex|2017-01-01 17:15:00|2024-09-06 16:45:00|      15min|\n|silver|silver_t_forex|USDJPY|          USD|forex|2017-01-01 18:00:00|2024-09-06 16:45:00|      15min|\n+------+--------------+------+-------------+-----+-------------------+-------------------+-----------+\n",
					"output_type": "stream"
				}
			]
		},
		{
			"cell_type": "code",
			"source": "# Sobreescribo el resultado\n(\n    info_df_gold\n    .write\n    .format('parquet')\n    .mode('overwrite')\n    .partitionBy(\"STAGE\")   \n    .save(path)\n)\n",
			"metadata": {
				"trusted": true,
				"tags": []
			},
			"execution_count": 16,
			"outputs": [
				{
					"name": "stdout",
					"text": "\n",
					"output_type": "stream"
				}
			]
		},
		{
			"cell_type": "code",
			"source": "",
			"metadata": {},
			"execution_count": null,
			"outputs": []
		}
	]
}